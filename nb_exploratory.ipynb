{
 "cells": [
  {
   "cell_type": "code",
   "execution_count": null,
   "id": "0cf5bdb5-83e8-4d6e-93f6-956ceb3a9959",
   "metadata": {},
   "outputs": [],
   "source": [
    "import jsonlist\n",
    "\n",
    "# Load in the massive dataset\n",
    "data = jsonlist.load_file('cmv_20161111.jsonlist')"
   ]
  },
  {
   "cell_type": "code",
   "execution_count": null,
   "id": "c136c2a7-d6dd-4ded-88ee-f931c52ab8f8",
   "metadata": {},
   "outputs": [],
   "source": [
    "import re\n",
    "\n",
    "print('-> title')\n",
    "print(data[0]['title'])\n",
    "print()\n",
    "\n",
    "print('-> author')\n",
    "print(data[0]['author'])\n",
    "print()\n",
    "\n",
    "print('-> selftext')\n",
    "# Remove the auto-added CMV post footer\n",
    "print(re.split(r'\\n\\_\\_\\_\\_\\_', data[0]['selftext'])[0])\n",
    "print()\n",
    "\n",
    "print('-> created, link_flair_text, permalink')\n",
    "print(data[0]['created'], data[0]['link_flair_text'], data[0]['permalink'])\n",
    "print()\n",
    "\n",
    "print('-> score, ups, downs')\n",
    "print(data[0]['score'], data[0]['ups'], data[0]['downs'])\n",
    "print()\n",
    "\n",
    "print('====')\n",
    "print()\n",
    "\n",
    "print('-> comments')\n",
    "for c in data[0]['comments']:\n",
    "    print(c)"
   ]
  },
  {
   "cell_type": "code",
   "execution_count": null,
   "id": "d6aa8e29-32d3-4289-a99b-6f30c93294f3",
   "metadata": {},
   "outputs": [],
   "source": [
    "print(data[0].keys())"
   ]
  },
  {
   "cell_type": "code",
   "execution_count": null,
   "id": "c665aa56-b7c0-4e63-b4fa-a7441497d168",
   "metadata": {},
   "outputs": [],
   "source": []
  }
 ],
 "metadata": {
  "kernelspec": {
   "display_name": "Python 3 (ipykernel)",
   "language": "python",
   "name": "python3"
  },
  "language_info": {
   "codemirror_mode": {
    "name": "ipython",
    "version": 3
   },
   "file_extension": ".py",
   "mimetype": "text/x-python",
   "name": "python",
   "nbconvert_exporter": "python",
   "pygments_lexer": "ipython3",
   "version": "3.9.7"
  }
 },
 "nbformat": 4,
 "nbformat_minor": 5
}
