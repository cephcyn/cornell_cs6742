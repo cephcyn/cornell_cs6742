{
 "cells": [
  {
   "cell_type": "code",
   "execution_count": null,
   "id": "0cf5bdb5-83e8-4d6e-93f6-956ceb3a9959",
   "metadata": {},
   "outputs": [],
   "source": [
    "import jsonlist\n",
    "\n",
    "# Load in the massive dataset\n",
    "data = jsonlist.load_file('cmv_20161111.jsonlist')"
   ]
  },
  {
   "cell_type": "code",
   "execution_count": null,
   "id": "c136c2a7-d6dd-4ded-88ee-f931c52ab8f8",
   "metadata": {},
   "outputs": [],
   "source": [
    "import re\n",
    "\n",
    "print('-> title')\n",
    "print(data[0]['title'])\n",
    "print()\n",
    "\n",
    "print('-> author')\n",
    "print(data[0]['author'])\n",
    "print()\n",
    "\n",
    "print('-> selftext')\n",
    "# Remove the auto-added CMV post footer\n",
    "print(re.split(r'\\n\\_\\_\\_\\_\\_', data[0]['selftext'])[0])\n",
    "print()\n",
    "\n",
    "print('-> created, link_flair_text, permalink')\n",
    "print(data[0]['created'], data[0]['link_flair_text'], data[0]['permalink'])\n",
    "print()\n",
    "\n",
    "print('-> score, ups, downs')\n",
    "print(data[0]['score'], data[0]['ups'], data[0]['downs'])\n",
    "print()"
   ]
  },
  {
   "cell_type": "code",
   "execution_count": null,
   "id": "d6aa8e29-32d3-4289-a99b-6f30c93294f3",
   "metadata": {},
   "outputs": [],
   "source": [
    "print(data[0].keys())\n",
    "print()\n",
    "print(data[0]['comments'][0].keys())"
   ]
  },
  {
   "cell_type": "code",
   "execution_count": null,
   "id": "c665aa56-b7c0-4e63-b4fa-a7441497d168",
   "metadata": {},
   "outputs": [],
   "source": [
    "import networkx as nx\n",
    "\n",
    "gAll = {}\n",
    "\n",
    "# dump every single post into its own graph tree\n",
    "for post_i in range(5):\n",
    "    g = nx.DiGraph()\n",
    "    userOP = data[post_i]['author']\n",
    "    userResponders = {}\n",
    "    for comment_i in range(len(data[post_i]['comments'])):\n",
    "        g.add_edge(\n",
    "            data[post_i]['comments'][comment_i]['parent_id'],\n",
    "            data[post_i]['comments'][comment_i]['name']\n",
    "        )\n",
    "        if 'author' in data[post_i]['comments'][comment_i]:\n",
    "            author = data[post_i]['comments'][comment_i]['author']\n",
    "            if author not in userResponders:\n",
    "                userResponders[author] = []\n",
    "            userResponders[author].append(data[post_i]['comments'][comment_i]['name'])\n",
    "    gAll[data[post_i]['name']] = {\n",
    "        'post_graph': g,\n",
    "        'user_op': userOP,\n",
    "        'user_responders': userResponders\n",
    "    }\n",
    "\n",
    "visID = list(gAll.keys())[0]\n",
    "nx.draw_kamada_kawai(gAll[visID]['post_graph'])\n",
    "print(gAll[visID]['user_op'])\n",
    "print(gAll[visID]['user_responders'])"
   ]
  },
  {
   "cell_type": "code",
   "execution_count": null,
   "id": "86b6433b-5b69-40b7-900d-d1b9e4948d3c",
   "metadata": {},
   "outputs": [],
   "source": []
  },
  {
   "cell_type": "code",
   "execution_count": null,
   "id": "b99e6e05-661e-4b9e-99a4-d8b58b2bb438",
   "metadata": {},
   "outputs": [],
   "source": []
  }
 ],
 "metadata": {
  "kernelspec": {
   "display_name": "Python 3 (ipykernel)",
   "language": "python",
   "name": "python3"
  },
  "language_info": {
   "codemirror_mode": {
    "name": "ipython",
    "version": 3
   },
   "file_extension": ".py",
   "mimetype": "text/x-python",
   "name": "python",
   "nbconvert_exporter": "python",
   "pygments_lexer": "ipython3",
   "version": "3.9.7"
  }
 },
 "nbformat": 4,
 "nbformat_minor": 5
}
