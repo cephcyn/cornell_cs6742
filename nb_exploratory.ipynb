{
 "cells": [
  {
   "cell_type": "code",
   "execution_count": null,
   "id": "0cf5bdb5-83e8-4d6e-93f6-956ceb3a9959",
   "metadata": {},
   "outputs": [],
   "source": [
    "import jsonlist\n",
    "\n",
    "# Load in the massive dataset\n",
    "data = jsonlist.load_file('cmv_20161111.jsonlist')"
   ]
  },
  {
   "cell_type": "code",
   "execution_count": null,
   "id": "d6aa8e29-32d3-4289-a99b-6f30c93294f3",
   "metadata": {},
   "outputs": [],
   "source": [
    "print(data[0].keys())\n",
    "print()\n",
    "print(data[0]['comments'][0].keys())"
   ]
  },
  {
   "cell_type": "code",
   "execution_count": null,
   "id": "c665aa56-b7c0-4e63-b4fa-a7441497d168",
   "metadata": {},
   "outputs": [],
   "source": [
    "import networkx as nx\n",
    "\n",
    "gAll = {}\n",
    "\n",
    "# dump every single post into its own graph tree\n",
    "for post_i in range(len(data)):\n",
    "    g = nx.DiGraph()\n",
    "    userOP = data[post_i]['author']\n",
    "    userResponders = {}\n",
    "    userToplevels = []\n",
    "    for comment_i in range(len(data[post_i]['comments'])):\n",
    "        if 'author' in data[post_i]['comments'][comment_i]:\n",
    "            author = data[post_i]['comments'][comment_i]['author']\n",
    "            parentID = data[post_i]['comments'][comment_i]['parent_id']\n",
    "            currentID = data[post_i]['comments'][comment_i]['name']\n",
    "            g.add_edge(parentID, currentID)\n",
    "            g.nodes[currentID]['comment_author'] = author\n",
    "            if author!='[deleted]' and author!='DeltaBot' and author!='AutoModerator':\n",
    "                if author not in userResponders:\n",
    "                    userResponders[author] = []\n",
    "                userResponders[author].append(currentID)\n",
    "                if parentID==data[post_i]['name']:\n",
    "                    userToplevels.append(author)\n",
    "    gAll[data[post_i]['name']] = {\n",
    "        'post_graph': g,\n",
    "        'user_op': userOP,\n",
    "        'user_toplevels': list(set(userToplevels)),\n",
    "        'user_responders': userResponders,\n",
    "        'raw_data': data[post_i],\n",
    "    }"
   ]
  },
  {
   "cell_type": "code",
   "execution_count": null,
   "id": "86b6433b-5b69-40b7-900d-d1b9e4948d3c",
   "metadata": {},
   "outputs": [],
   "source": [
    "# test out the graph building\n",
    "postID = list(gAll.keys())[3864]\n",
    "postG = gAll[postID]['post_graph']\n",
    "# print(postG.nodes.data())\n",
    "nx.draw_kamada_kawai(\n",
    "    postG, \n",
    "#     node_color=[\n",
    "#         d['comment_author'] if 'comment_author' in d else gAll[postID]['user_op']\n",
    "#         for (n,d) in postG.nodes.data()\n",
    "#     ]\n",
    ")\n",
    "print(postID)\n",
    "print(gAll[postID]['user_op'])\n",
    "print(gAll[postID]['user_toplevels'])\n",
    "print(gAll[postID]['user_responders'])"
   ]
  },
  {
   "cell_type": "code",
   "execution_count": null,
   "id": "3f84f586-c187-4eb3-8995-5f8680a67faf",
   "metadata": {},
   "outputs": [],
   "source": [
    "# get branch count for top-level responders\n",
    "for postID in gAll.keys():\n",
    "    for u in gAll[postID]['user_toplevels']: # user_toplevels\n",
    "        if u!=gAll[postID]['user_op']:\n",
    "            count = branch_count(u, postID)\n",
    "            if count > 10:\n",
    "                print(postID, u, gAll[postID]['raw_data']['num_comments'])\n",
    "                break"
   ]
  },
  {
   "cell_type": "code",
   "execution_count": null,
   "id": "73de4891-3b03-4edc-bd11-13ec4e786654",
   "metadata": {},
   "outputs": [],
   "source": [
    "# count how many branches a user has touched\n",
    "# metric: count of how many unique paths are needed for all of the user's posts to be reached\n",
    "def branch_count(username, postID):\n",
    "    # retrieve graph we are working with\n",
    "    g = gAll[postID]['post_graph']\n",
    "    # calculate path to each of the poster's comments\n",
    "    commentPaths = {}\n",
    "    for cID in gAll[postID]['user_responders'][username]:\n",
    "        commentPaths[cID] = nx.shortest_path(g, postID, cID)\n",
    "    # starting from longest path, remove all comments along that path (since theyre not unique)\n",
    "    pathCount = 0\n",
    "    while len(commentPaths) > 0:\n",
    "#         print(commentPaths)\n",
    "        deepestCID = sorted(\n",
    "            [(k, len(commentPaths[k])) for k in commentPaths],\n",
    "            key=(lambda x: x[1]),\n",
    "        )\n",
    "        deepestPath = commentPaths[deepestCID[-1][0]]\n",
    "        for cID in deepestPath:\n",
    "            commentPaths.pop(cID, None)\n",
    "        pathCount += 1\n",
    "    return pathCount\n",
    "\n",
    "username = \"ralpher313\"\n",
    "postID = \"t3_5c8xdc\"\n",
    "print(branch_count(username, postID))"
   ]
  },
  {
   "cell_type": "code",
   "execution_count": null,
   "id": "82d9e6a5-bed2-4653-b190-c56b6ae238dc",
   "metadata": {
    "tags": []
   },
   "outputs": [],
   "source": [
    "# get branch count for top-level responders\n",
    "distribCount = {}\n",
    "userCount = {}\n",
    "for postID in gAll.keys():\n",
    "    for u in gAll[postID]['user_toplevels']: # user_responders , user_toplevels\n",
    "        if u!=gAll[postID]['user_op']:\n",
    "            count = branch_count(u, postID)\n",
    "            if count not in distribCount:\n",
    "                distribCount[count] = []\n",
    "            distribCount[count].append(u)\n",
    "            if u not in userCount:\n",
    "                userCount[u] = []\n",
    "            userCount[u].append(count)"
   ]
  },
  {
   "cell_type": "code",
   "execution_count": null,
   "id": "e1afc905-c0ed-4791-ab74-075c4dca9ed5",
   "metadata": {},
   "outputs": [],
   "source": [
    "t = [(k, len(set(distribCount[k]))-1, set(distribCount[k])) for k in distribCount.keys()]\n",
    "t = [(a,b,c) for (a,b,c) in t if b!=0]\n",
    "t = sorted(t, key=lambda x: x[0])\n",
    "print([(a,b) for (a,b,c) in t])"
   ]
  },
  {
   "cell_type": "code",
   "execution_count": null,
   "id": "fdbacac6-c541-483e-af5b-e3c62a87b478",
   "metadata": {},
   "outputs": [],
   "source": [
    "import math\n",
    "import matplotlib.pyplot as plt\n",
    "\n",
    "plt.scatter(\n",
    "    [b for (b, _) in t], \n",
    "    [math.log(fq) for (_, fq) in t], \n",
    ")\n",
    "plt.xlabel('# of branches (X)')\n",
    "plt.ylabel('log(# of users who touched X branches)')\n",
    "plt.show()"
   ]
  },
  {
   "cell_type": "code",
   "execution_count": null,
   "id": "808933bf-e925-418f-9d4c-3f15b0f12eda",
   "metadata": {},
   "outputs": [],
   "source": [
    "t = [(k, sum(userCount[k]), len(userCount[k]), max(userCount[k])) for k in userCount.keys()]\n",
    "t = sorted(t, key=lambda x: x[2], reverse=True)\n",
    "for i in ([(a,b/c,d,c) for (a,b,c,d) in t])[:10]:\n",
    "    print(i)"
   ]
  },
  {
   "cell_type": "code",
   "execution_count": null,
   "id": "ce082a16-8126-49be-a187-d8c892833acc",
   "metadata": {},
   "outputs": [],
   "source": [
    "import math\n",
    "import matplotlib.pyplot as plt\n",
    "\n",
    "plt.scatter(\n",
    "    [pc for (_, _, pc, _) in t], \n",
    "    [math.log(sumB/numB) for (_, sumB, numB, _) in t], \n",
    ")\n",
    "plt.xlabel('# of posts commented on')\n",
    "plt.ylabel('log(Average number of branches touched)')\n",
    "plt.show()"
   ]
  },
  {
   "cell_type": "code",
   "execution_count": null,
   "id": "888773b0-c913-4a66-bae6-68ab7c1dbf0c",
   "metadata": {},
   "outputs": [],
   "source": [
    "import math\n",
    "import matplotlib.pyplot as plt\n",
    "\n",
    "plt.scatter(\n",
    "    [pc for (_, _, pc, _) in t], \n",
    "    [maxB for (_, _, _, maxB) in t], \n",
    ")\n",
    "plt.xlabel('# of posts commented on')\n",
    "plt.ylabel('Max number of branches touched')\n",
    "plt.show()"
   ]
  },
  {
   "cell_type": "code",
   "execution_count": null,
   "id": "c136c2a7-d6dd-4ded-88ee-f931c52ab8f8",
   "metadata": {},
   "outputs": [],
   "source": [
    "import re\n",
    "\n",
    "# OP's notable contents\n",
    "\n",
    "print('-> title')\n",
    "print(data[0]['title'])\n",
    "print()\n",
    "\n",
    "print('-> author')\n",
    "print(data[0]['author'])\n",
    "print()\n",
    "\n",
    "print('-> selftext')\n",
    "# Remove the auto-added CMV post footer\n",
    "print(re.split(r'\\n\\_\\_\\_\\_\\_', data[0]['selftext'])[0])\n",
    "print()\n",
    "\n",
    "print('-> created, link_flair_text, permalink')\n",
    "print(data[0]['created'], data[0]['link_flair_text'], data[0]['permalink'])\n",
    "print()\n",
    "\n",
    "print('-> score, ups, downs')\n",
    "print(data[0]['score'], data[0]['ups'], data[0]['downs'])\n",
    "print()"
   ]
  },
  {
   "cell_type": "code",
   "execution_count": null,
   "id": "b99e6e05-661e-4b9e-99a4-d8b58b2bb438",
   "metadata": {},
   "outputs": [],
   "source": []
  }
 ],
 "metadata": {
  "kernelspec": {
   "display_name": "Python 3 (ipykernel)",
   "language": "python",
   "name": "python3"
  },
  "language_info": {
   "codemirror_mode": {
    "name": "ipython",
    "version": 3
   },
   "file_extension": ".py",
   "mimetype": "text/x-python",
   "name": "python",
   "nbconvert_exporter": "python",
   "pygments_lexer": "ipython3",
   "version": "3.9.7"
  }
 },
 "nbformat": 4,
 "nbformat_minor": 5
}
